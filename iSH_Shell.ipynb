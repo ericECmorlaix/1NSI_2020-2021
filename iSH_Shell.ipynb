{
 "cells": [
  {
   "cell_type": "markdown",
   "metadata": {},
   "source": [
    "## Kezako ?\n",
    "\n",
    "[iSH Shell](https://ish.app/) est un projet d'application qui permet de faire fonctionner un terminal Linux localement sur votre tablette iPad (ou votre iPhone) :\n",
    "\n",
    "\n",
    "<img src=\"https://ish.app/assets/front-ipad.webp\" alt=\"Ecran d'iSH\" width=70%>\n",
    "\n",
    "<img src=\"https://ish.app/assets/iphone-keyboard.webp\" alt=\"IHM d'iSH\" width=70%>\n",
    "\n",
    "\n",
    "- il y a un dépot GitHub : https://github.com/ish-app/ish ;\n",
    "\n",
    "- on trouve de l'aide sur le wiki : https://github.com/ish-app/ish/wiki"
   ]
  },
  {
   "cell_type": "markdown",
   "metadata": {},
   "source": [
    "## Installation :\n",
    "\n",
    "1. Depuis l'application `Self Service`, installer **iSH Shell** sur votre iPad ;\n",
    "\n",
    "2. Démarrer **iSH** et saisir la commande `uname -a` ;\n",
    "> On vérifie qu'on est dans un émulateur d'OS Linux contrairement à l'application [a-Shell mini](https://apps.apple.com/fr/app/a-shell-mini/id1543537943?l=en#?platform=ipad) qui dialogue avec [Darwin](https://fr.wikipedia.org/wiki/Darwin_(informatique)) l'OS de votre iPad...\n",
    "\n",
    "3. Ouvrir l'application `Fichiers` et ajouter **iSH** dans les emplacements visibles à coté de \"iCloud Drive\" et \"Sur mon iPad\" ;\n",
    "> Les autres applications comme `Carnets` ont accès aux fichiers de votre émulateur Linux...\n",
    "\n",
    "4. **iSH** utilise [Alpine Package Manager](https://wiki.alpinelinux.org/wiki/Alpine_Linux_package_management) :\n",
    "- saisir `apk update` pour mettre à jour ;\n",
    "- puis `apk search python` pour rechercher un paquet ;\n",
    "- enfin `apk add python3`, pour installer un paquet...\n",
    "\n",
    "5. Saisir `python3` puis essayer quelques instructions comme `import this` ou `from __future__ import braces` pour verifier qu'on est bien en présence d'un interpréteur Python, enfin saisir `exit()` pour revenir au prompt du terminal.\n",
    "\n",
    "\n",
    "6. Saisir `apk add py3-pip` pour installer pip afin de gérer l'installation d'autres modules pour Python ;\n",
    "\n",
    "7. Saisir `apk add py3-regex` puis `pip install mkdocs-material` afin d'installer [Material pour MkDocs](https://squidfunk.github.io/mkdocs-material/)...\n",
    "\n",
    "\n",
    "\n",
    "> <h3 class='fa fa-graduation-cap' style=\"color: MediumSeaGreen\"> A faire vous même : </h3>\n",
    ">\n",
    "> Explorer plus avant les fonctionnalités offertes par iSH sur votre iPad :\n",
    ">\n",
    "> - essayer des commandes du notebook [Terminal-Un_BN_pour_la_ligne_de_commande.ipynb](Terminal-Un_BN_pour_la_ligne_de_commande.ipynb)\n",
    "> - éditer un fichier de l'emplacement iSH depuis l'application Carnets\n",
    "> - exécuter des scripts Python...\n",
    "\n",
    "\n",
    "\n",
    "\n"
   ]
  },
  {
   "cell_type": "code",
   "execution_count": null,
   "metadata": {},
   "outputs": [],
   "source": []
  }
 ],
 "metadata": {
  "jupytext": {
   "cell_metadata_filter": "-all",
   "formats": "md,ipynb",
   "notebook_metadata_filter": "-all"
  },
  "kernelspec": {
   "display_name": "Python 3",
   "language": "python",
   "name": "python3"
  },
  "language_info": {
   "codemirror_mode": {
    "name": "ipython",
    "version": 3
   },
   "file_extension": ".py",
   "mimetype": "text/x-python",
   "name": "python",
   "nbconvert_exporter": "python",
   "pygments_lexer": "ipython3",
   "version": "3.8.5"
  }
 },
 "nbformat": 4,
 "nbformat_minor": 4
}
